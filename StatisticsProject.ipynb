{
 "cells": [
  {
   "cell_type": "code",
   "execution_count": 9,
   "id": "478c3c38-3648-4d2a-84c3-046aba84c545",
   "metadata": {},
   "outputs": [
    {
     "name": "stdout",
     "output_type": "stream",
     "text": [
      "   CustomerID  Gender Region  PurchaseAmount ProductCategory Churn  \\\n",
      "0        1001    Male  South          256.07         Fashion    No   \n",
      "1        1002  Female  South             NaN     Electronics   Yes   \n",
      "2        1003  Female   West         1194.41         Fashion    No   \n",
      "3        1004  Female  South          413.06         Grocery    No   \n",
      "4        1005    Male   West         1556.32         Fashion   Yes   \n",
      "\n",
      "  CampaignGroup  \n",
      "0             A  \n",
      "1             B  \n",
      "2             A  \n",
      "3             A  \n",
      "4             A  \n",
      "\n",
      " Shape : (5000, 7)\n"
     ]
    }
   ],
   "source": [
    "import pandas as pd\n",
    "import pandas as pd\n",
    "import numpy as np\n",
    "import math\n",
    "from scipy import stats\n",
    "import matplotlib.pyplot as plt\n",
    "\n",
    "Data = \"customer_behavior.csv\"\n",
    "DataFlow = pd.read_csv(Data)\n",
    "DataFlow = DataFlow.rename(columns=lambda c: c.strip())\n",
    "DataFlow[\"PurchaseAmount\"] = pd.to_numeric(DataFlow[\"PurchaseAmount\"], errors=\"coerce\")\n",
    "for col in [\"Gender\",\"Region\",\"ProductCategory\",\"Churn\",\"CampaignGroup\"]:\n",
    "    if col in DataFlow.columns:\n",
    "        DataFlow[col] = DataFlow[col].astype(str).str.strip()\n",
    "print(DataFlow.head())\n",
    "print(\"\\n Shape :\", DataFlow.shape)"
   ]
  },
  {
   "cell_type": "code",
   "execution_count": 14,
   "id": "5cb48443-4868-4d60-b324-899239569624",
   "metadata": {},
   "outputs": [],
   "source": [
    "def SafeMode(series: pd.Series):\n",
    "    m = series.mode(dropna=True)\n",
    "    if m.empty:\n",
    "        return np.nan\n",
    "    return m.iloc[0]\n"
   ]
  },
  {
   "cell_type": "code",
   "execution_count": 18,
   "id": "8d1f259e-4b03-4448-b502-9987e47e651e",
   "metadata": {},
   "outputs": [
    {
     "name": "stdout",
     "output_type": "stream",
     "text": [
      "Mean   : 1003.95\n",
      "Median : 998.08\n",
      "Mode   : 0.0\n",
      "\n",
      " If Mean > Median, distribution may be right‑skewed.\n"
     ]
    }
   ],
   "source": [
    "Purchase = DataFlow[\"PurchaseAmount\"].dropna()\n",
    "MeanValue = Purchase.mean()\n",
    "MedianValue = Purchase.median()\n",
    "ModeValue = SafeMode(Purchase.round(2))\n",
    "\n",
    "print(\"Mean   :\", round(MeanValue,2))\n",
    "print(\"Median :\", round(MedianValue,2))\n",
    "print(\"Mode   :\", round(ModeValue,2) if pd.notna(ModeValue) else \"No unique mode\")\n",
    "\n",
    "print(\"\\n If Mean > Median, distribution may be right‑skewed.\")"
   ]
  },
  {
   "cell_type": "code",
   "execution_count": 20,
   "id": "24fc226d-f8f5-47e5-8a51-5b73a20b7b8d",
   "metadata": {},
   "outputs": [],
   "source": [
    "def IQR_outlier_bounds(series: pd.Series):\n",
    "    S = series.dropna()\n",
    "    import numpy as np\n",
    "    Q1, Q3 = np.percentile(S, [25, 75])\n",
    "    IQR = Q3 - Q1\n",
    "    Lower = Q1 - 1.5 * IQR\n",
    "    Upper = Q3 + 1.5 * IQR\n",
    "    return Q1, Q3, IQR, Lower, Upper\n"
   ]
  },
  {
   "cell_type": "code",
   "execution_count": 47,
   "id": "bbff4887-7346-4c91-9ea1-acd9f116ff43",
   "metadata": {},
   "outputs": [
    {
     "name": "stdout",
     "output_type": "stream",
     "text": [
      "Q1=673.64, Q3=1,327.08, IQR=653.44\n",
      "Lower fence=-306.51, Upper fence=2,307.23\n",
      "Outlier count: 15\n"
     ]
    },
    {
     "data": {
      "text/html": [
       "<div>\n",
       "<style scoped>\n",
       "    .dataframe tbody tr th:only-of-type {\n",
       "        vertical-align: middle;\n",
       "    }\n",
       "\n",
       "    .dataframe tbody tr th {\n",
       "        vertical-align: top;\n",
       "    }\n",
       "\n",
       "    .dataframe thead th {\n",
       "        text-align: right;\n",
       "    }\n",
       "</style>\n",
       "<table border=\"1\" class=\"dataframe\">\n",
       "  <thead>\n",
       "    <tr style=\"text-align: right;\">\n",
       "      <th></th>\n",
       "      <th>CustomerID</th>\n",
       "      <th>PurchaseAmount</th>\n",
       "    </tr>\n",
       "  </thead>\n",
       "  <tbody>\n",
       "    <tr>\n",
       "      <th>195</th>\n",
       "      <td>1196</td>\n",
       "      <td>2318.33</td>\n",
       "    </tr>\n",
       "    <tr>\n",
       "      <th>265</th>\n",
       "      <td>1266</td>\n",
       "      <td>2496.41</td>\n",
       "    </tr>\n",
       "    <tr>\n",
       "      <th>348</th>\n",
       "      <td>1349</td>\n",
       "      <td>2688.69</td>\n",
       "    </tr>\n",
       "    <tr>\n",
       "      <th>411</th>\n",
       "      <td>1412</td>\n",
       "      <td>2349.16</td>\n",
       "    </tr>\n",
       "    <tr>\n",
       "      <th>826</th>\n",
       "      <td>1827</td>\n",
       "      <td>2578.89</td>\n",
       "    </tr>\n",
       "    <tr>\n",
       "      <th>1358</th>\n",
       "      <td>2359</td>\n",
       "      <td>2384.19</td>\n",
       "    </tr>\n",
       "    <tr>\n",
       "      <th>2285</th>\n",
       "      <td>3286</td>\n",
       "      <td>2457.05</td>\n",
       "    </tr>\n",
       "    <tr>\n",
       "      <th>2557</th>\n",
       "      <td>3558</td>\n",
       "      <td>2316.19</td>\n",
       "    </tr>\n",
       "    <tr>\n",
       "      <th>2681</th>\n",
       "      <td>3682</td>\n",
       "      <td>2400.69</td>\n",
       "    </tr>\n",
       "    <tr>\n",
       "      <th>3326</th>\n",
       "      <td>4327</td>\n",
       "      <td>2357.41</td>\n",
       "    </tr>\n",
       "  </tbody>\n",
       "</table>\n",
       "</div>"
      ],
      "text/plain": [
       "      CustomerID  PurchaseAmount\n",
       "195         1196         2318.33\n",
       "265         1266         2496.41\n",
       "348         1349         2688.69\n",
       "411         1412         2349.16\n",
       "826         1827         2578.89\n",
       "1358        2359         2384.19\n",
       "2285        3286         2457.05\n",
       "2557        3558         2316.19\n",
       "2681        3682         2400.69\n",
       "3326        4327         2357.41"
      ]
     },
     "execution_count": 47,
     "metadata": {},
     "output_type": "execute_result"
    }
   ],
   "source": [
    "Q1, Q3, IQR, Lower, Upper = IQR_outlier_bounds(DataFlow[\"PurchaseAmount\"])\n",
    "Outliers = DataFlow[(DataFlow[\"PurchaseAmount\"] < Lower) | (DataFlow[\"PurchaseAmount\"] > Upper)][[\"CustomerID\",\"PurchaseAmount\"]]\n",
    "\n",
    "print(f\"Q1={Q1:,.2f}, Q3={Q3:,.2f}, IQR={IQR:,.2f}\")\n",
    "print(f\"Lower fence={Lower:,.2f}, Upper fence={Upper:,.2f}\")\n",
    "print(\"Outlier count:\", len(Outliers))\n",
    "Outliers.head(10)"
   ]
  },
  {
   "cell_type": "code",
   "execution_count": 26,
   "id": "c7a6efb0-9d9e-465a-b0e9-9c31aef6952d",
   "metadata": {},
   "outputs": [
    {
     "name": "stdout",
     "output_type": "stream",
     "text": [
      "Skewness : 0.106  (Condition: If >0 Right‑skew, <0 Left‑skew)\n",
      "Kurtosis : -0.262  (Condition: 0≈normal, >0 leptokurtic, <0 platykurtic)\n"
     ]
    }
   ],
   "source": [
    "Skew = stats.skew(Purchase, bias=False, nan_policy=\"omit\")\n",
    "KurtFisher = stats.kurtosis(Purchase, fisher=True, bias=False, nan_policy=\"omit\")\n",
    "print(f\"Skewness : {Skew:,.3f}  (Condition: If >0 Right‑skew, <0 Left‑skew)\")\n",
    "print(f\"Kurtosis : {KurtFisher:,.3f}  (Condition: 0≈normal, >0 leptokurtic, <0 platykurtic)\")\n"
   ]
  },
  {
   "cell_type": "code",
   "execution_count": 56,
   "id": "60bf8a18-66bc-408f-83a0-d177bf9d27fe",
   "metadata": {},
   "outputs": [
    {
     "name": "stdout",
     "output_type": "stream",
     "text": [
      "Counts — Male: 2386 Female: 2370\n",
      "Variance equality test: Levene p=0.4973  \n",
      "Welch t-test: t=2.235, p=0.0255\n",
      "Interpretation: p<0.05 ⇒ significant difference in mean spending.\n"
     ]
    }
   ],
   "source": [
    "Male = DataFlow.loc[DataFlow[\"Gender\"]==\"Male\",\"PurchaseAmount\"].dropna()\n",
    "Female = DataFlow.loc[DataFlow[\"Gender\"]==\"Female\",\"PurchaseAmount\"].dropna()\n",
    "\n",
    "print(\"Counts — Male:\", len(Male), \"Female:\", len(Female))\n",
    "\n",
    "lev_stat, lev_p = stats.levene(Male, Female, center=\"median\")\n",
    "t_stat, p_val = stats.ttest_ind(Male, Female, equal_var=False, nan_policy=\"omit\")\n",
    "\n",
    "print(f\"Variance equality test: Levene p={lev_p:,.4f}  \")\n",
    "print(f\"Welch t-test: t={t_stat:,.3f}, p={p_val:,.4f}\")\n",
    "print(\"Interpretation: p<0.05 ⇒ significant difference in mean spending.\")"
   ]
  },
  {
   "cell_type": "markdown",
   "id": "340decff-1318-4ca3-978b-976610acb38d",
   "metadata": {},
   "source": [
    "**Assumptions**\n",
    "-  Statistically there is having significant difference in spending between Male and Female."
   ]
  },
  {
   "cell_type": "code",
   "execution_count": 50,
   "id": "044e0ec6-72a8-46d8-becc-748424e62673",
   "metadata": {},
   "outputs": [
    {
     "name": "stdout",
     "output_type": "stream",
     "text": [
      "Churn             No  Yes  nan\n",
      "ProductCategory               \n",
      "Electronics      785  541   77\n",
      "Fashion          839  607   77\n",
      "Grocery          855  604   89\n",
      "nan              313  191   22\n",
      "\n",
      "Chi square test=4.929, \n",
      "Degrees of freedom=6,\n",
      "p-Value=0.5529\n",
      "Interpretation: p<0.05 ⇒ evidence of association between category and churn.\n"
     ]
    }
   ],
   "source": [
    "CT = pd.crosstab(DataFlow[\"ProductCategory\"], DataFlow[\"Churn\"])\n",
    "chi2, p, dof, expected = stats.chi2_contingency(CT)\n",
    "print(CT)\n",
    "print(f\"\\nChi square test={chi2:,.3f}, \\nDegrees of freedom={dof},\\np-Value={p:,.4f}\")\n",
    "print(\"Interpretation: p<0.05 ⇒ evidence of association between category and churn.\")"
   ]
  },
  {
   "cell_type": "markdown",
   "id": "4cba75f5-9639-4519-9ce1-6d2123f30890",
   "metadata": {},
   "source": [
    "**Assumptions**\n",
    "-  Here P-Value is greater than 0.05, So No evidence of an association between ProductCategory and Churn. "
   ]
  },
  {
   "cell_type": "code",
   "execution_count": 52,
   "id": "df760504-9e5a-4497-a10c-f6e26130125c",
   "metadata": {},
   "outputs": [
    {
     "name": "stdout",
     "output_type": "stream",
     "text": [
      "Regions: ['East', 'North', 'South', 'West', 'nan']\n",
      "Levene p=0.2644\n",
      "ANOVA  F=0.293, p=0.8825\n",
      "Kruskal H=1.093, p=0.8955\n",
      "Interpretation: ANOVA p<0.05 ⇒ at least one region mean differs; consider post‑hoc tests.\n"
     ]
    }
   ],
   "source": [
    "Groups = [g.dropna().values for _, g in DataFlow.groupby(\"Region\")[\"PurchaseAmount\"]]\n",
    "Labels = list(DataFlow.groupby(\"Region\").groups.keys())\n",
    "\n",
    "lev_stat, lev_p = stats.levene(*Groups, center=\"median\")\n",
    "f_stat, p_val = stats.f_oneway(*Groups)\n",
    "h_stat, h_p = stats.kruskal(*Groups)\n",
    "\n",
    "print(\"Regions:\", Labels)\n",
    "print(f\"Levene p={lev_p:,.4f}\")\n",
    "print(f\"ANOVA  F={f_stat:,.3f}, p={p_val:,.4f}\")\n",
    "print(f\"Kruskal H={h_stat:,.3f}, p={h_p:,.4f}\")\n",
    "print(\"Interpretation: ANOVA p<0.05 ⇒ at least one region mean differs; consider post‑hoc tests.\")"
   ]
  },
  {
   "cell_type": "markdown",
   "id": "0025f3f8-a22b-4799-a497-b74e7e12eea9",
   "metadata": {},
   "source": [
    "**Assumptions**\n",
    "-  Based on the both tests, It clearly indicates that PurchaseAmount does not differ by Region."
   ]
  },
  {
   "cell_type": "code",
   "execution_count": 53,
   "id": "8b30c638-babf-4a2a-9204-f4a5db52ff15",
   "metadata": {},
   "outputs": [
    {
     "name": "stdout",
     "output_type": "stream",
     "text": [
      "Mean A: 1,011.95 | Mean B: 994.34\n",
      "Welch t-test: t=1.243, p=0.214\n",
      "Higher average PurchaseAmount: Campaign A\n"
     ]
    }
   ],
   "source": [
    "A = DataFlow.loc[DataFlow[\"CampaignGroup\"].str.upper()==\"A\",\"PurchaseAmount\"].dropna()\n",
    "B = DataFlow.loc[DataFlow[\"CampaignGroup\"].str.upper()==\"B\",\"PurchaseAmount\"].dropna()\n",
    "\n",
    "Mean_A, Mean_B = A.mean(), B.mean()\n",
    "t_stat, p_val = stats.ttest_ind(A, B, equal_var=False, nan_policy=\"omit\")\n",
    "better = \"A\" if Mean_A > Mean_B else \"B\"\n",
    "\n",
    "print(f\"Mean A: {Mean_A:,.2f} | Mean B: {Mean_B:,.2f}\")\n",
    "print(f\"Welch t-test: t={t_stat:,.3f}, p={p_val:,.3f}\")\n",
    "print(f\"Higher average PurchaseAmount: Campaign {better}\")"
   ]
  },
  {
   "cell_type": "code",
   "execution_count": 54,
   "id": "d1afe09d-ad75-46be-911c-a82831610e94",
   "metadata": {},
   "outputs": [
    {
     "name": "stdout",
     "output_type": "stream",
     "text": [
      "Shapiro–Wilk: W=0.995, p=0.0000  (p≥0.05 suggests normality)\n"
     ]
    },
    {
     "data": {
      "image/png": "[encoded data removed]",
      "text/plain": [
       "<Figure size 640x480 with 1 Axes>"
      ]
     },
     "metadata": {},
     "output_type": "display_data"
    }
   ],
   "source": [
    "Sample = DataFlow[\"PurchaseAmount\"].dropna().sample(n=min(5000, DataFlow[\"PurchaseAmount\"].dropna().shape[0]), random_state=42)\n",
    "W, p_shapiro = stats.shapiro(Sample)\n",
    "print(f\"Shapiro–Wilk: W={W:,.3f}, p={p_shapiro:,.4f}  (p≥0.05 suggests normality)\")\n",
    "\n",
    "plt.hist(DataFlow[\"PurchaseAmount\"].dropna(), bins='auto')\n",
    "plt.title(\"Histogram of PurchaseAmount\")\n",
    "plt.xlabel(\"PurchaseAmount\"); plt.ylabel(\"Frequency\")\n",
    "plt.show()\n"
   ]
  },
  {
   "cell_type": "markdown",
   "id": "11b38698-b207-4007-984a-6a3e82106047",
   "metadata": {},
   "source": [
    "**Assumptions**\n",
    "- Based on Shapiro-Wilk test means we can't reject normality at α = 0.05.\n",
    "- The histogram looks roughly bell shaped with only a mild right tail. So we can say it approximately follows a normal distribution."
   ]
  },
  {
   "cell_type": "code",
   "execution_count": 42,
   "id": "ae8bca9e-44cf-43a1-88f3-cea32d3d4bf9",
   "metadata": {},
   "outputs": [
    {
     "name": "stdout",
     "output_type": "stream",
     "text": [
      "Mean of sample means: 1,004.30\n",
      "Std of sample means : 68.71  (≈ σ/√n)\n"
     ]
    },
    {
     "data": {
      "image/png": "[encoded data removed]",
      "text/plain": [
       "<Figure size 640x480 with 1 Axes>"
      ]
     },
     "metadata": {},
     "output_type": "display_data"
    }
   ],
   "source": [
    "np.random.seed(42)\n",
    "S = DataFlow['PurchaseAmount'].dropna().values\n",
    "SampleSize = 50\n",
    "n_boot = 2000\n",
    "Means = [np.mean(np.random.choice(S, size=SampleSize, replace=True)) for _ in range(n_boot)]\n",
    "Means = np.array(Means)\n",
    "\n",
    "print(f\"Mean of sample means: {Means.mean():,.2f}\")\n",
    "print(f\"Std of sample means : {Means.std(ddof=1):,.2f}  (≈ σ/√n)\")\n",
    "\n",
    "plt.hist(Means, bins='auto')\n",
    "plt.title(\"Sampling Distribution of Mean (Bootstrap, n=50)\")\n",
    "plt.xlabel(\"Sample mean\") \n",
    "plt.ylabel(\"Frequency\")\n",
    "plt.show()"
   ]
  },
  {
   "cell_type": "markdown",
   "id": "c914eeea-8af1-4254-96d0-6dd9928e3ef7",
   "metadata": {},
   "source": [
    "**Assumptions**\n",
    "- Sampling distribution is Approximately normal.\n",
    "- Sample Mean is an unbiased estimator of the population mean.\n",
    "- PurchaseAmount has a finite variance."
   ]
  },
  {
   "cell_type": "code",
   "execution_count": 55,
   "id": "60a98f44-1e2d-42d6-a409-b7b70ae8dc79",
   "metadata": {},
   "outputs": [
    {
     "name": "stdout",
     "output_type": "stream",
     "text": [
      "n=4850, mean=1,003.95, Std=482.11, SE=6.92, t*=1.960\n",
      "95% CI: [990.38, 1,017.52]\n"
     ]
    }
   ],
   "source": [
    "Purchase = DataFlow['PurchaseAmount'].dropna()\n",
    "n = len(Purchase)\n",
    "Mean_x = Purchase.mean()\n",
    "Std = Purchase.std(ddof=1)\n",
    "se = Std / math.sqrt(n)\n",
    "t_crit = stats.t.ppf(1 - 0.05/2, df=n-1)\n",
    "Lo, Up = Mean_x - t_crit*se, Mean_x + t_crit*se\n",
    "\n",
    "print(f\"n={n}, mean={Mean_x:,.2f}, Std={Std:,.2f}, SE={se:,.2f}, t*={t_crit:,.3f}\")\n",
    "print(f\"95% CI: [{Lo:,.2f}, {Up:,.2f}]\")"
   ]
  },
  {
   "cell_type": "markdown",
   "id": "85f34601-6bfc-4bae-854b-08282e2858dd",
   "metadata": {},
   "source": [
    "**Assumptions**\n",
    "-  Each Purchase is approximately independent"
   ]
  }
 ],
 "metadata": {
  "kernelspec": {
   "display_name": "Python 3 (ipykernel)",
   "language": "python",
   "name": "python3"
  },
  "language_info": {
   "codemirror_mode": {
    "name": "ipython",
    "version": 3
   },
   "file_extension": ".py",
   "mimetype": "text/x-python",
   "name": "python",
   "nbconvert_exporter": "python",
   "pygments_lexer": "ipython3",
   "version": "3.13.5"
  }
 },
 "nbformat": 4,
 "nbformat_minor": 5
}
